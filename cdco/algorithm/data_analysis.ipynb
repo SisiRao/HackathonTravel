{
 "cells": [
  {
   "cell_type": "code",
   "execution_count": 1,
   "metadata": {},
   "outputs": [],
   "source": [
    "import os\n",
    "import pandas as pd\n",
    "import numpy as np\n",
    "import matplotlib.pyplot as plt"
   ]
  },
  {
   "cell_type": "code",
   "execution_count": 3,
   "metadata": {},
   "outputs": [],
   "source": [
    "path = os.getcwd() + \"/NYC_taxi/\""
   ]
  },
  {
   "cell_type": "code",
   "execution_count": 15,
   "metadata": {},
   "outputs": [],
   "source": [
    "\n",
    "train = pd.read_csv(path + \"train.csv\") "
   ]
  },
  {
   "cell_type": "code",
   "execution_count": 16,
   "metadata": {},
   "outputs": [
    {
     "data": {
      "text/html": [
       "<div>\n",
       "<style scoped>\n",
       "    .dataframe tbody tr th:only-of-type {\n",
       "        vertical-align: middle;\n",
       "    }\n",
       "\n",
       "    .dataframe tbody tr th {\n",
       "        vertical-align: top;\n",
       "    }\n",
       "\n",
       "    .dataframe thead th {\n",
       "        text-align: right;\n",
       "    }\n",
       "</style>\n",
       "<table border=\"1\" class=\"dataframe\">\n",
       "  <thead>\n",
       "    <tr style=\"text-align: right;\">\n",
       "      <th></th>\n",
       "      <th>id</th>\n",
       "      <th>vendor_id</th>\n",
       "      <th>pickup_datetime</th>\n",
       "      <th>dropoff_datetime</th>\n",
       "      <th>passenger_count</th>\n",
       "      <th>pickup_longitude</th>\n",
       "      <th>pickup_latitude</th>\n",
       "      <th>dropoff_longitude</th>\n",
       "      <th>dropoff_latitude</th>\n",
       "      <th>store_and_fwd_flag</th>\n",
       "      <th>trip_duration</th>\n",
       "    </tr>\n",
       "  </thead>\n",
       "  <tbody>\n",
       "    <tr>\n",
       "      <th>0</th>\n",
       "      <td>id000000</td>\n",
       "      <td>1</td>\n",
       "      <td>2016-03-16 06:33:18</td>\n",
       "      <td>2016-03-16 06:34:30</td>\n",
       "      <td>1</td>\n",
       "      <td>-74.007484</td>\n",
       "      <td>40.727428</td>\n",
       "      <td>-74.005745</td>\n",
       "      <td>40.727985</td>\n",
       "      <td>N</td>\n",
       "      <td>72</td>\n",
       "    </tr>\n",
       "    <tr>\n",
       "      <th>1</th>\n",
       "      <td>id000001</td>\n",
       "      <td>1</td>\n",
       "      <td>2016-06-01 17:55:07</td>\n",
       "      <td>2016-06-01 17:55:26</td>\n",
       "      <td>1</td>\n",
       "      <td>-73.783371</td>\n",
       "      <td>40.643772</td>\n",
       "      <td>-73.783371</td>\n",
       "      <td>40.643772</td>\n",
       "      <td>N</td>\n",
       "      <td>19</td>\n",
       "    </tr>\n",
       "    <tr>\n",
       "      <th>2</th>\n",
       "      <td>id000002</td>\n",
       "      <td>1</td>\n",
       "      <td>2016-02-06 16:05:15</td>\n",
       "      <td>2016-02-06 16:13:26</td>\n",
       "      <td>1</td>\n",
       "      <td>-73.975945</td>\n",
       "      <td>40.781326</td>\n",
       "      <td>-73.965576</td>\n",
       "      <td>40.792984</td>\n",
       "      <td>N</td>\n",
       "      <td>491</td>\n",
       "    </tr>\n",
       "    <tr>\n",
       "      <th>3</th>\n",
       "      <td>id000003</td>\n",
       "      <td>2</td>\n",
       "      <td>2016-04-02 12:35:31</td>\n",
       "      <td>2016-04-02 12:48:20</td>\n",
       "      <td>5</td>\n",
       "      <td>-73.978981</td>\n",
       "      <td>40.762352</td>\n",
       "      <td>-73.968018</td>\n",
       "      <td>40.800503</td>\n",
       "      <td>N</td>\n",
       "      <td>769</td>\n",
       "    </tr>\n",
       "    <tr>\n",
       "      <th>4</th>\n",
       "      <td>id000004</td>\n",
       "      <td>1</td>\n",
       "      <td>2016-05-19 21:43:21</td>\n",
       "      <td>2016-05-19 21:54:49</td>\n",
       "      <td>1</td>\n",
       "      <td>-73.990318</td>\n",
       "      <td>40.755730</td>\n",
       "      <td>-73.987579</td>\n",
       "      <td>40.769363</td>\n",
       "      <td>N</td>\n",
       "      <td>688</td>\n",
       "    </tr>\n",
       "  </tbody>\n",
       "</table>\n",
       "</div>"
      ],
      "text/plain": [
       "         id  vendor_id      pickup_datetime     dropoff_datetime  \\\n",
       "0  id000000          1  2016-03-16 06:33:18  2016-03-16 06:34:30   \n",
       "1  id000001          1  2016-06-01 17:55:07  2016-06-01 17:55:26   \n",
       "2  id000002          1  2016-02-06 16:05:15  2016-02-06 16:13:26   \n",
       "3  id000003          2  2016-04-02 12:35:31  2016-04-02 12:48:20   \n",
       "4  id000004          1  2016-05-19 21:43:21  2016-05-19 21:54:49   \n",
       "\n",
       "   passenger_count  pickup_longitude  pickup_latitude  dropoff_longitude  \\\n",
       "0                1        -74.007484        40.727428         -74.005745   \n",
       "1                1        -73.783371        40.643772         -73.783371   \n",
       "2                1        -73.975945        40.781326         -73.965576   \n",
       "3                5        -73.978981        40.762352         -73.968018   \n",
       "4                1        -73.990318        40.755730         -73.987579   \n",
       "\n",
       "   dropoff_latitude store_and_fwd_flag  trip_duration  \n",
       "0         40.727985                  N             72  \n",
       "1         40.643772                  N             19  \n",
       "2         40.792984                  N            491  \n",
       "3         40.800503                  N            769  \n",
       "4         40.769363                  N            688  "
      ]
     },
     "execution_count": 16,
     "metadata": {},
     "output_type": "execute_result"
    }
   ],
   "source": [
    "train.head()"
   ]
  },
  {
   "cell_type": "code",
   "execution_count": 4,
   "metadata": {},
   "outputs": [
    {
     "data": {
      "text/plain": [
       "'/Users/vera/Desktop/GoogleGirlHackathon/code/NYC_taxi/'"
      ]
     },
     "execution_count": 4,
     "metadata": {},
     "output_type": "execute_result"
    }
   ],
   "source": [
    "path"
   ]
  },
  {
   "cell_type": "code",
   "execution_count": null,
   "metadata": {},
   "outputs": [],
   "source": []
  }
 ],
 "metadata": {
  "kernelspec": {
   "display_name": "Python 3",
   "language": "python",
   "name": "python3"
  },
  "language_info": {
   "codemirror_mode": {
    "name": "ipython",
    "version": 3
   },
   "file_extension": ".py",
   "mimetype": "text/x-python",
   "name": "python",
   "nbconvert_exporter": "python",
   "pygments_lexer": "ipython3",
   "version": "3.6.4"
  }
 },
 "nbformat": 4,
 "nbformat_minor": 2
}
